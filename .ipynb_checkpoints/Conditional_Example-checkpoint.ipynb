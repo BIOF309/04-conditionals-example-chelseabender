{
 "cells": [
  {
   "cell_type": "code",
   "execution_count": 22,
   "metadata": {},
   "outputs": [
    {
     "name": "stdout",
     "output_type": "stream",
     "text": [
      "What is the name of your DNA sample? Sample 1\n",
      "What is the 260/280 ratio of your DNA sample? 1.85\n",
      "260/280 ratio is in the acceptable range, DNA sample is pure.\n",
      "What is the concentration of your DNA sample? 250\n",
      "Concentration is in the acceptable range.\n",
      "Congratulations you have a great DNA sample! Please store the sample in the biobank.\n"
     ]
    }
   ],
   "source": [
    "sample = [input(\"What is the name of your DNA sample? \")]\n",
    "\n",
    "ratio = [float(input(\"What is the 260/280 ratio of your DNA sample? \"))] #Enter result for 260/280ratio\n",
    "for x in ratio : #Use a nested loop with conditionals to determine if a sample is contaminated. If a sample is contaminated it must be destroyed. \n",
    "                #If a sample is not contaminated the concentration must be in the appropriate range before storing the sample.\n",
    "    if x > 1.95 or x <1.75 :\n",
    "        x = False\n",
    "        print(\"260/280 ratio is out of the acceptable range, DNA sample is contaminated. \")\n",
    "    else : \n",
    "        x = True\n",
    "        print(\"260/280 ratio is in the acceptable range, DNA sample is pure.\")\n",
    "\n",
    "        concentration = [int(input(\"What is the concentration of your DNA sample? \"))] #Enter result for concentration\n",
    "        for i in concentration : #If the 260/280 ratio is accepted use another loop and conditionals to determine if the sample should be stored.\n",
    "                                #If the concentration is above the accepted range it can be diluted. \n",
    "                                #If it is below the accepted range it must be destroyed.\n",
    "            if i < 100 :\n",
    "                i = False\n",
    "                print(\"Error: Low concentration.\")\n",
    "                     \n",
    "            elif i > 500:\n",
    "                i = True\n",
    "                print(\"Concentration is too high. Please dilute the DNA sample so that the concentration is between 100ng/uL and 500ng/uL.\")\n",
    " \n",
    "            else:\n",
    "                i = True\n",
    "                print(\"Concentration is in the acceptable range.\")\n",
    "\n",
    " \n",
    "if (x == True & i == True) : #Flow control statements to give you a final decision on what to do with the sample\n",
    "    print(\"Congratulations you have a great DNA sample! Please store the sample in the biobank.\")\n",
    "else :\n",
    "    print(\"Sorry your DNA sample does not meet our requirements. Please prepare the sample for destruction and inform coordinating center that more blood is required for this patient.\") \n"
   ]
  },
  {
   "cell_type": "code",
   "execution_count": null,
   "metadata": {
    "collapsed": true
   },
   "outputs": [],
   "source": []
  }
 ],
 "metadata": {
  "kernelspec": {
   "display_name": "Python 3",
   "language": "python",
   "name": "python3"
  },
  "language_info": {
   "codemirror_mode": {
    "name": "ipython",
    "version": 3
   },
   "file_extension": ".py",
   "mimetype": "text/x-python",
   "name": "python",
   "nbconvert_exporter": "python",
   "pygments_lexer": "ipython3",
   "version": "3.6.1"
  }
 },
 "nbformat": 4,
 "nbformat_minor": 2
}
